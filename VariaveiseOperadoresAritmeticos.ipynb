{
  "nbformat": 4,
  "nbformat_minor": 0,
  "metadata": {
    "colab": {
      "provenance": [],
      "authorship_tag": "ABX9TyPBeBfrIq2uGFeXvpIqzYrW",
      "include_colab_link": true
    },
    "kernelspec": {
      "name": "python3",
      "display_name": "Python 3"
    },
    "language_info": {
      "name": "python"
    }
  },
  "cells": [
    {
      "cell_type": "markdown",
      "metadata": {
        "id": "view-in-github",
        "colab_type": "text"
      },
      "source": [
        "<a href=\"https://colab.research.google.com/github/KaioDK/LogicaProgramacaoPython/blob/main/VariaveiseOperadoresAritmeticos.ipynb\" target=\"_parent\"><img src=\"https://colab.research.google.com/assets/colab-badge.svg\" alt=\"Open In Colab\"/></a>"
      ]
    },
    {
      "cell_type": "markdown",
      "source": [
        "\n",
        "#Criando Variáveis"
      ],
      "metadata": {
        "id": "eu0O88haBmBV"
      }
    },
    {
      "cell_type": "markdown",
      "source": [
        "###Área do quadrado"
      ],
      "metadata": {
        "id": "gX4Zzvy5KcMb"
      }
    },
    {
      "cell_type": "code",
      "execution_count": null,
      "metadata": {
        "id": "gT3LW1mJBExH"
      },
      "outputs": [],
      "source": [
        "#entrada\n",
        "l = float(input(\"Digite o lado do seu quadrado: \"))\n",
        "#processamento\n",
        "a = l*l\n",
        "#saida\n",
        "print(\"A área do quadrado é:\",a)"
      ]
    },
    {
      "cell_type": "markdown",
      "source": [
        "###Área do retângulo"
      ],
      "metadata": {
        "id": "e5AXGlQZKZPq"
      }
    },
    {
      "cell_type": "code",
      "source": [
        "#entrada\n",
        "base = float(input(\"Digite a base do seu retângulo: \"))\n",
        "alt = float(input(\"Digite a altura do seu retângulo: \"))\n",
        "#processamento\n",
        "area = base*alt\n",
        "#saida\n",
        "print(\"A área do retângulo é:\",area)"
      ],
      "metadata": {
        "colab": {
          "base_uri": "https://localhost:8080/"
        },
        "id": "pdUMETlWKtGz",
        "outputId": "a4b88ccb-07db-41d6-d9c3-43e8608ef626"
      },
      "execution_count": null,
      "outputs": [
        {
          "output_type": "stream",
          "name": "stdout",
          "text": [
            "Digite a base do seu retângulo: 5\n",
            "Digite a altura do seu retângulo: 5\n",
            "A área do retângulo é: 25.0\n"
          ]
        }
      ]
    },
    {
      "cell_type": "markdown",
      "source": [
        "###Área do triângulo"
      ],
      "metadata": {
        "id": "gAzgJ4W9LTgS"
      }
    },
    {
      "cell_type": "code",
      "source": [
        "#entrada\n",
        "base = float(input(\"Digite a base do seu triângulo: \"))\n",
        "alt = float(input(\"Digite a altura do seu triângulo: \"))\n",
        "#processamento\n",
        "area = base*alt/2\n",
        "#saida\n",
        "print(\"A área do tritângulo é:\",area)"
      ],
      "metadata": {
        "id": "4mImwxjILemy"
      },
      "execution_count": null,
      "outputs": []
    },
    {
      "cell_type": "markdown",
      "source": [
        "###Área do trapézio"
      ],
      "metadata": {
        "id": "oq-D4-7vLsXH"
      }
    },
    {
      "cell_type": "code",
      "source": [
        "#entrada\n",
        "baseM = float(input(\"Digite a base maior do seu trapézio: \"))\n",
        "basem = float(input(\"Digite a base menor do seu trapézio: \"))\n",
        "altura = float(input(\"Digite a altura do seu trapézio: \"))\n",
        "#processamento\n",
        "area = (baseM+basem)*altura/2\n",
        "#saida\n",
        "print(\"A área do trapézio é:\",area)"
      ],
      "metadata": {
        "id": "Dj6wXz8XLwfu"
      },
      "execution_count": null,
      "outputs": []
    },
    {
      "cell_type": "markdown",
      "source": [
        "###Azulejos necessarios para preencher a parede"
      ],
      "metadata": {
        "id": "2zhybSkjQ8iJ"
      }
    },
    {
      "cell_type": "code",
      "source": [
        "#entrada\n",
        "Ap = float(input(\"Digite a altura da sua parede: \"))\n",
        "Lp = float(input(\"Digite a largura da sua parede: \"))\n",
        "Aa = float(input(\"Digite a altura em cm do seu azulejo: \"))\n",
        "La = float(input(\"Digite a largura em cm do seu azulejo: \"))\n",
        "#processamento\n",
        "areaA = Aa*La\n",
        "Azulejocm = areaA/100\n",
        "areaP = Ap*Lp\n",
        "TDA = areaP/Azulejocm\n",
        "#saida\n",
        "print(\"A área da parede é: \", areaP)\n",
        "print(\"A área do azulejo é: \", areaA)\n",
        "print(\"A quantidade de azulejos necessários é de: \", TDA)"
      ],
      "metadata": {
        "colab": {
          "base_uri": "https://localhost:8080/"
        },
        "id": "Aj2T6TcGRDtA",
        "outputId": "7be3ad8c-839c-470a-f373-130d41cbbb17"
      },
      "execution_count": null,
      "outputs": [
        {
          "output_type": "stream",
          "name": "stdout",
          "text": [
            "Digite a altura da sua parede: 4\n",
            "Digite a largura da sua parede: 6\n",
            "Digite a altura em cm do seu azulejo: 4\n",
            "Digite a largura em cm do seu azulejo: 3\n",
            "A área da parede é:  24.0\n",
            "A área do azulejo é:  12.0\n",
            "A quantidade de azulejos necessários é de:  200.0\n"
          ]
        }
      ]
    },
    {
      "cell_type": "markdown",
      "source": [
        "###Área do circulo"
      ],
      "metadata": {
        "id": "z2r9KcEFUhvQ"
      }
    },
    {
      "cell_type": "code",
      "source": [
        "#entrada\n",
        "r = float(input(\"Insira o raio do seu circulo: \"))\n",
        "\n",
        "#processamento\n",
        "pi = 3.14\n",
        "R = r*r\n",
        "areaC = pi*R\n",
        "\n",
        "#saida\n",
        "print(\"A área do circulo é: \",areaC)"
      ],
      "metadata": {
        "colab": {
          "base_uri": "https://localhost:8080/"
        },
        "id": "GpIwxAW4Ul0e",
        "outputId": "50430366-2f8d-4b2a-f457-ce901c9d2aed"
      },
      "execution_count": null,
      "outputs": [
        {
          "output_type": "stream",
          "name": "stdout",
          "text": [
            "Insira o raio do seu circulo: 5\n",
            "A área do circulo é:  78.5\n"
          ]
        }
      ]
    }
  ]
}